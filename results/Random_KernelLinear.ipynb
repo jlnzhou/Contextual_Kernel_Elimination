{
 "cells": [
  {
   "cell_type": "code",
   "execution_count": 1,
   "id": "fb51d95a-5180-4011-adb3-f191ede3c824",
   "metadata": {},
   "outputs": [],
   "source": [
    "import pandas as pd"
   ]
  },
  {
   "cell_type": "code",
   "execution_count": 15,
   "id": "1dbd11d4-e90f-4d20-aebe-8835502f1db7",
   "metadata": {},
   "outputs": [],
   "source": [
    "results = pd.read_json(\"AgentRandom_KernelLinear_NoNoise/metrics_AgentRandom_KernelLinear_NoNoise_18-07-2022.json\")"
   ]
  },
  {
   "cell_type": "code",
   "execution_count": 16,
   "id": "d43a739e-86a9-4a46-ab00-74244e70d43d",
   "metadata": {},
   "outputs": [
    {
     "data": {
      "text/plain": [
       "dict_keys(['agent', 'kernel_agent', 'kernel_agent_param', 'reg_lambda', 'mu', 'env', 'kernel_env', 'kernel_env_param', 'parallelization', 'T', 'min_action', 'max_action', 'n_actions', 'dim_actions', 'min_context', 'max_context', 'n_contexts', 'dim_contexts', 'discrete_contexts', 'noise_scale', 'exp_name', 'random_seed_agent', 'random_seed_env', 'step', 'time', 'average_reward', 'average_reward_clean', 'average_best', 'sum_reward', 'sum_reward_clean', 'sum_best', 'regret', 'regret_noiseless'])"
      ]
     },
     "execution_count": 16,
     "metadata": {},
     "output_type": "execute_result"
    }
   ],
   "source": [
    "for i in range(len(results)):\n",
    "    parameters = {}"
   ]
  },
  {
   "cell_type": "code",
   "execution_count": 20,
   "id": "ec0ba81f-021c-43d9-a55c-05dec20ae861",
   "metadata": {},
   "outputs": [
    {
     "data": {
      "text/plain": [
       "['results']"
      ]
     },
     "execution_count": 20,
     "metadata": {},
     "output_type": "execute_result"
    }
   ],
   "source": [
    "[a for a in results]"
   ]
  },
  {
   "cell_type": "code",
   "execution_count": 22,
   "id": "2435f493-a608-4601-8e4e-661862f3841f",
   "metadata": {},
   "outputs": [
    {
     "data": {
      "text/plain": [
       "5"
      ]
     },
     "execution_count": 22,
     "metadata": {},
     "output_type": "execute_result"
    }
   ],
   "source": [
    "len(results)"
   ]
  }
 ],
 "metadata": {
  "kernelspec": {
   "display_name": "Python 3",
   "language": "python",
   "name": "python3"
  },
  "language_info": {
   "codemirror_mode": {
    "name": "ipython",
    "version": 3
   },
   "file_extension": ".py",
   "mimetype": "text/x-python",
   "name": "python",
   "nbconvert_exporter": "python",
   "pygments_lexer": "ipython3",
   "version": "3.6.8"
  }
 },
 "nbformat": 4,
 "nbformat_minor": 5
}
